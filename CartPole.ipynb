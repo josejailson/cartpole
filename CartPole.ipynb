{
  "nbformat": 4,
  "nbformat_minor": 0,
  "metadata": {
    "colab": {
      "provenance": [],
      "authorship_tag": "ABX9TyNbjrDFfsoKxUeq1JpsIs+o",
      "include_colab_link": true
    },
    "kernelspec": {
      "name": "python3",
      "display_name": "Python 3"
    },
    "language_info": {
      "name": "python"
    }
  },
  "cells": [
    {
      "cell_type": "markdown",
      "metadata": {
        "id": "view-in-github",
        "colab_type": "text"
      },
      "source": [
        "<a href=\"https://colab.research.google.com/github/josejailson/cartpole/blob/main/CartPole.ipynb\" target=\"_parent\"><img src=\"https://colab.research.google.com/assets/colab-badge.svg\" alt=\"Open In Colab\"/></a>"
      ]
    },
    {
      "cell_type": "code",
      "source": [
        "import gym\n",
        "\n",
        "env = gym.make(\"CartPole\", render_mode=\"rgb_array\")"
      ],
      "metadata": {
        "colab": {
          "base_uri": "https://localhost:8080/"
        },
        "id": "AsolhsXzLMFD",
        "outputId": "a1ddada9-9efb-4a6c-f9b8-dd7af690fde1"
      },
      "execution_count": null,
      "outputs": [
        {
          "output_type": "stream",
          "name": "stderr",
          "text": [
            "/usr/local/lib/python3.10/dist-packages/gym/envs/registration.py:563: UserWarning: \u001b[33mWARN: Using the latest versioned environment `CartPole-v1` instead of the unversioned environment `CartPole`.\u001b[0m\n",
            "  logger.warn(\n"
          ]
        }
      ]
    },
    {
      "cell_type": "code",
      "source": [
        "def basic_policy(obs):\n",
        "  angle = obs[2]\n",
        "  return 0 if angle<0 else 1\n",
        ""
      ],
      "metadata": {
        "id": "LnSpGn09LcRB"
      },
      "execution_count": null,
      "outputs": []
    },
    {
      "cell_type": "code",
      "source": [
        "totals = []\n",
        "\n",
        "for episode in range(500):\n",
        "  episode_rewards = 0\n",
        "  obs, info = env.reset(seed=episode)\n",
        "  for step in range(200):\n",
        "    action = basic_policy(obs)\n",
        "    obs, reward, done, truncated, info = env.step(action)\n",
        "    episode_rewards += reward\n",
        "    if done or truncated:\n",
        "      break\n",
        "\n",
        "  totals.append(episode_rewards)"
      ],
      "metadata": {
        "id": "imCbtwdiLmUh"
      },
      "execution_count": null,
      "outputs": []
    },
    {
      "cell_type": "code",
      "source": [
        "min(totals)"
      ],
      "metadata": {
        "colab": {
          "base_uri": "https://localhost:8080/"
        },
        "id": "J62dzgT1Mj3a",
        "outputId": "b884a3db-543d-4122-8578-cad20b4b922f"
      },
      "execution_count": null,
      "outputs": [
        {
          "output_type": "execute_result",
          "data": {
            "text/plain": [
              "24.0"
            ]
          },
          "metadata": {},
          "execution_count": 46
        }
      ]
    },
    {
      "cell_type": "code",
      "source": [
        "import tensorflow as tf\n",
        "\n",
        "model = tf.keras.Sequential(\n",
        "    tf.keras.layers.Dense(5, activation=\"relu\"),\n",
        "    tf.keras.layers.Dense(1, actiavtion=\"sigmoid\")\n",
        ")"
      ],
      "metadata": {
        "id": "e887aivmM-LR"
      },
      "execution_count": null,
      "outputs": []
    },
    {
      "cell_type": "code",
      "source": [
        "def play_one_step(env, obs, model, loss_fn):\n",
        "  with tf.GradientTape() as tape:\n",
        "    left_proba = model(obs[np.newaxis])\n",
        "    action = (tf.random.uniform[0,1]>left_proba)\n",
        "    y_target = tf.constant([[1.]]) - tf.cast(action, tf.float32)\n",
        "    loss = tf.reduce_mean(loss_fn(y_target, left_proba))\n",
        "  grads = tape.gradient(loss, model.trainable_variables)\n",
        "  obs, reward, done, truncated, info = env.step(int(action))\n",
        "  return obs, reward, done, truncated, grads\n"
      ],
      "metadata": {
        "id": "yIr8-xpSbmMP"
      },
      "execution_count": null,
      "outputs": []
    },
    {
      "cell_type": "code",
      "source": [],
      "metadata": {
        "id": "t4MTocVNdeSx"
      },
      "execution_count": null,
      "outputs": []
    }
  ]
}